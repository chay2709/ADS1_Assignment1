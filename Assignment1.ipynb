import pandas as pd
import matplotlib
import plotly.express as px


def plot_total_price_for_each_year(df_prices):
    """
    step 1: calculates total price of wheat per each year
    step 2: calculates total price of rice per each year
    step 3: calculates total price of corn per each year
    step 4: plots graphs for above calculated total prices for each grain
    :param df_prices: original dataset
    :return: none
    """
    wheat_yearly_df = df_prices.groupby(['Year'])['Price_wheat_ton'].sum()
    rice_yearly_df = df_prices.groupby(['Year'])['Price_rice_ton'].sum()
    corn_yearly_df = df_prices.groupby(['Year'])['Price_corn_ton'].sum()
    px.bar(wheat_yearly_df, y="Price_wheat_ton", title="sum of wheat price per year")
    px.line(rice_yearly_df, y="Price_rice_ton", title="sum of rice price per year")
    px.scatter(corn_yearly_df, y="Price_corn_ton", title="sum of corn price per year")

def plot_yearly_min_max_for_each_grain(df_prices):
    """
    step 1: calculates minimum and maximum for each grain for each year using group by
    step 2: plots bar graphs for min and max comparisons
    :param df_prices:  original dataset
    :return: None
    """
    df_yearly = df_prices.groupby(['Year'])[['Price_wheat_ton_infl', 'Price_rice_ton_infl', 'Price_corn_ton_infl']]
    df_yearly_min = df_yearly.min()
    df_yearly_max = df_yearly.max()

    df_yearly_min.plot(y=["Price_wheat_ton_infl", "Price_rice_ton_infl", "Price_corn_ton_infl"], kind='bar',
                       figsize=(20, 10))

    df_yearly_max.plot(y=["Price_wheat_ton_infl", "Price_rice_ton_infl", "Price_corn_ton_infl"], kind='bar',
                       figsize=(20, 10))



def plot_changes_in_infaltion_rate(df_prices):
    """
    step 1: calculates inflation rate for each year
    step 2: plots a pie chart with each year inflation rate
    :param df_prices: original dataset
    :return: none
    """
    df_Inflation_rate = df_prices.groupby(['Year'])[['Year','Inflation_rate']].min()
    fig = px.pie(df_Inflation_rate, names='Year', values='Inflation_rate', title='Inflation rate yearly')
    fig.update_traces(textposition='inside', textinfo='value')


def read_csv_file():
    """
    step 1: Reads a local csv file which contains the prices data of all grains
    step 2: Calls two functions for plotting total prices, min, max and inflation rates over the period
    """
    df_prices = pd.read_csv("rice_wheat_corn_prices.csv")
    plot_total_price_for_each_year(df_prices)
    plot_yearly_min_max_for_each_grain(df_prices)

    plot_changes_in_infaltion_rate(df_prices)


if __name__ == "__main__":
    read_csv_file()
